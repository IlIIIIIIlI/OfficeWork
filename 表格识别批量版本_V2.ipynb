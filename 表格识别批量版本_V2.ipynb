{
 "cells": [
  {
   "cell_type": "code",
   "execution_count": 79,
   "metadata": {},
   "outputs": [
    {
     "name": "stdout",
     "output_type": "stream",
     "text": [
      "{'refresh_token': '25.a5acd6544ab834b76a519ee92a3d1f7f.315360000.1955457980.282335-24186023', 'expires_in': 2592000, 'session_key': '9mzdA5rtpE65hsO/A5BP6I8Ffl4WzbqXZnoLciuXoV2bMAE1UOsyOo0ORiWmB4AoYKKKjHIGx02zDYZQ/TbCcalqgQ5t/Q==', 'access_token': '24.80959e992757800bd9dab6b64afe11be.2592000.1642689980.282335-24186023', 'scope': 'public vis-ocr_ocr brain_ocr_scope brain_ocr_general brain_ocr_general_basic vis-ocr_business_license brain_ocr_webimage brain_all_scope brain_ocr_idcard brain_ocr_driving_license brain_ocr_vehicle_license vis-ocr_plate_number brain_solution brain_ocr_plate_number brain_ocr_accurate brain_ocr_accurate_basic brain_ocr_receipt brain_ocr_business_license brain_solution_iocr brain_qrcode brain_ocr_handwriting brain_ocr_passport brain_ocr_vat_invoice brain_numbers brain_ocr_business_card brain_ocr_train_ticket brain_ocr_taxi_receipt vis-ocr_household_register vis-ocr_vis-classify_birth_certificate vis-ocr_台湾通行证 vis-ocr_港澳通行证 vis-ocr_机动车购车发票识别 vis-ocr_机动车检验合格证识别 vis-ocr_车辆vin码识别 vis-ocr_定额发票识别 vis-ocr_保单识别 vis-ocr_机打发票识别 vis-ocr_行程单识别 brain_ocr_vin brain_ocr_quota_invoice brain_ocr_birth_certificate brain_ocr_household_register brain_ocr_HK_Macau_pass brain_ocr_taiwan_pass brain_ocr_vehicle_invoice brain_ocr_vehicle_certificate brain_ocr_air_ticket brain_ocr_invoice brain_ocr_insurance_doc brain_formula brain_ocr_facade brain_ocr_meter brain_doc_analysis brain_ocr_webimage_loc brain_ocr_doc_analysis_office brain_vat_invoice_verification wise_adapt lebo_resource_base lightservice_public hetu_basic lightcms_map_poi kaidian_kaidian ApsMisTest_Test权限 vis-classify_flower lpq_开放 cop_helloScope ApsMis_fangdi_permission smartapp_snsapi_base smartapp_mapp_dev_manage iop_autocar oauth_tp_app smartapp_smart_game_openapi oauth_sessionkey smartapp_swanid_verify smartapp_opensource_openapi smartapp_opensource_recapi fake_face_detect_开放Scope vis-ocr_虚拟人物助理 idl-video_虚拟人物助理 smartapp_component smartapp_search_plugin avatar_video_test b2b_tp_openapi b2b_tp_openapi_online', 'session_secret': '3c0aac69afc306e88c09607d7278f318'}\n"
     ]
    }
   ],
   "source": [
    "from aip import AipOcr\n",
    "# encoding:utf-8\n",
    "import requests \n",
    "import pandas as pd\n",
    "import os\n",
    "import time\n",
    "\n",
    "# client_id 为官网获取的AK， client_secret 为官网获取的SK\n",
    "host = 'https://aip.baidubce.com/oauth/2.0/token?grant_type=client_credentials&client_id=NmPSifndGbLCA7k15IT0MnNg&client_secret=iMGqNbSIdUGDzt7EVhZPv4P3M5A9uii0'\n",
    "response = requests.get(host)\n",
    "if response:\n",
    "    print(response.json())\n",
    "\n",
    "\"\"\" 你的 APPID AK SK \"\"\"\n",
    "# 改下面三个，用百度提供的新表单的token来\n",
    "APP_ID = '25390855'\n",
    "API_KEY = 'ucwehGhhwppGAt8rai0BsLd3'\n",
    "SECRET_KEY = 'BWPcNPtiRbzLRBdzHtnxI2vaHQD4UTg6'\n",
    "\n",
    "client = AipOcr(APP_ID, API_KEY, SECRET_KEY)"
   ]
  },
  {
   "cell_type": "code",
   "execution_count": 72,
   "metadata": {},
   "outputs": [],
   "source": [
    "# 改成你本地文件夹\n",
    "inputdir=r'/Users/19723/Desktop/tea/'\n",
    "list1 = []\n",
    "for parents, dirnames, filenames in os.walk(inputdir):\n",
    "    for filename in filenames:\n",
    "        list1.append(os.path.join(parents,filename))"
   ]
  },
  {
   "cell_type": "code",
   "execution_count": 80,
   "metadata": {},
   "outputs": [],
   "source": [
    "# encoding:utf-8\n",
    "import requests\n",
    "import base64\n",
    "\n",
    "'''\n",
    "表格文字识别(异步接口)\n",
    "'''\n",
    "\n",
    "request_url = \"https://aip.baidubce.com/rest/2.0/solution/v1/form_ocr/request\"\n",
    "# 二进制方式打开图片文件\n",
    "list2 = []\n",
    "\n",
    "for i in list1:\n",
    "    f = open(i, 'rb')\n",
    "    img = base64.b64encode(f.read())\n",
    "\n",
    "    params = {\"image\":img}\n",
    "    # 读取上面cell获取结果里面的access_token\n",
    "    access_token = '24.80959e992757800bd9dab6b64afe11be.2592000.1642689980.282335-24186023'\n",
    "    request_url = request_url + \"?access_token=\" + access_token\n",
    "    headers = {'content-type': 'application/x-www-form-urlencoded'}\n",
    "    response = requests.post(request_url, data=params, headers=headers)\n",
    "    time.sleep(7)\n",
    "    if response:\n",
    "        list2 = list2 + response.json()['result']"
   ]
  },
  {
   "cell_type": "code",
   "execution_count": 81,
   "metadata": {},
   "outputs": [],
   "source": [
    "url = 'https://aip.baidubce.com/rest/2.0/solution/v1/form_ocr/get_request_result'\n",
    "url = url + \"?access_token=\" + access_token\n",
    "\n",
    "list3 = []\n",
    "for i in list2:\n",
    "    p = {\n",
    "        'request_id': i['request_id'], # 取自上个代码的返回结果\n",
    "        'result_type': 'excel' #返回类型\n",
    "    }\n",
    "\n",
    "    res = requests.post(url, data=p, headers=headers)\n",
    "    time.sleep(5)\n",
    "    res.json()\n",
    "    list3.append(res.json()['result']['result_data'])"
   ]
  },
  {
   "cell_type": "code",
   "execution_count": 82,
   "metadata": {},
   "outputs": [
    {
     "name": "stdout",
     "output_type": "stream",
     "text": [
      "-------------------------------------\n",
      "第1个链接\n",
      "http://bj.bcebos.com/v1/ai-edgecloud/9F331F68E8C84CCFA8C457A75AA00291.xls?authorization=bce-auth-v1%2Fd9272b4e9a38476db4470c2714e1339a%2F2021-12-21T14%3A46%3A40Z%2F172800%2F%2F7f32443e76b61166d70d0c572e6cff37f969213c9d883eaa9f310e31c5a731f8\n",
      "-------------------------------------\n",
      "第2个链接\n",
      "http://bj.bcebos.com/v1/ai-edgecloud/BDA47266F75644428E527E92BA0AC34A.xls?authorization=bce-auth-v1%2Fd9272b4e9a38476db4470c2714e1339a%2F2021-12-21T14%3A46%3A50Z%2F172800%2F%2F440096f16e4328d3eaf26c3f89d6c463d0aece24d1249c962bf73c7302443209\n"
     ]
    }
   ],
   "source": [
    "x = 0\n",
    "for i in list3:\n",
    "    x += 1\n",
    "    print(\"-------------------------------------\")\n",
    "    print(\"第\" + str(x) + \"个链接\")\n",
    "    print(i)"
   ]
  },
  {
   "cell_type": "code",
   "execution_count": null,
   "metadata": {},
   "outputs": [],
   "source": []
  }
 ],
 "metadata": {
  "kernelspec": {
   "display_name": "Python 3",
   "language": "python",
   "name": "python3"
  },
  "language_info": {
   "codemirror_mode": {
    "name": "ipython",
    "version": 3
   },
   "file_extension": ".py",
   "mimetype": "text/x-python",
   "name": "python",
   "nbconvert_exporter": "python",
   "pygments_lexer": "ipython3",
   "version": "3.8.3"
  },
  "toc": {
   "base_numbering": 1,
   "nav_menu": {},
   "number_sections": true,
   "sideBar": true,
   "skip_h1_title": false,
   "title_cell": "Table of Contents",
   "title_sidebar": "Contents",
   "toc_cell": false,
   "toc_position": {},
   "toc_section_display": true,
   "toc_window_display": false
  }
 },
 "nbformat": 4,
 "nbformat_minor": 4
}
