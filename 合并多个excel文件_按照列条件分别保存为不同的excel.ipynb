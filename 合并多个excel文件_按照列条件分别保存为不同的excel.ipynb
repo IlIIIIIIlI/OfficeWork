{
 "cells": [
  {
   "cell_type": "code",
   "execution_count": 323,
   "metadata": {},
   "outputs": [],
   "source": [
    "import pandas as pd\n",
    "import os"
   ]
  },
  {
   "cell_type": "code",
   "execution_count": 324,
   "metadata": {},
   "outputs": [],
   "source": [
    "inputdir=r'/Users/19723/Desktop/xinfang//'\n",
    "df_empty=pd.DataFrame(columns=['标题','resblock-location'])\n",
    "for parents, dirnames, filenames in os.walk(inputdir):\n",
    "    for filename in filenames:\n",
    "        df=pd.read_excel(os.path.join(parents,filename))\n",
    "        df['城市'] = os.path.basename(filename)\n",
    "        df.append(df)\n",
    "        df_empty=df_empty.append(df,ignore_index=True)"
   ]
  },
  {
   "cell_type": "code",
   "execution_count": 325,
   "metadata": {},
   "outputs": [],
   "source": [
    "df_empty['城市'] = pd.DataFrame(df_empty['城市'].apply(lambda x:x[:2]).tolist())"
   ]
  },
  {
   "cell_type": "code",
   "execution_count": 326,
   "metadata": {},
   "outputs": [],
   "source": [
    "strict_L = []\n",
    "for i in df_empty['resblock-location'].str.split('/').tolist():\n",
    "    try:\n",
    "        strict_L.append(i[0])\n",
    "    except TypeError:\n",
    "        strict_L.append('')"
   ]
  },
  {
   "cell_type": "code",
   "execution_count": 327,
   "metadata": {},
   "outputs": [],
   "source": [
    "df_empty['区'] = pd.DataFrame(strict_L)"
   ]
  },
  {
   "cell_type": "code",
   "execution_count": 328,
   "metadata": {},
   "outputs": [],
   "source": [
    "df_empty = df_empty.drop(['标题链接', '缩略图', 'resblock-tag', '新房顾问', 'resblock-tag1', 'resblock-name', 'resblock-tag2', 'desc', 'resblock-room', 'resblock-tag3', 'resblock-room1'], axis = 1, errors=ignore)"
   ]
  },
  {
   "cell_type": "code",
   "execution_count": 329,
   "metadata": {},
   "outputs": [],
   "source": [
    "# df_empty = df_empty.dropna(subset=['区', 'second'])"
   ]
  },
  {
   "cell_type": "code",
   "execution_count": 330,
   "metadata": {},
   "outputs": [],
   "source": [
    "strict_list = df_empty['区'].unique().tolist()\n",
    "city_list = df_empty['城市'].unique().tolist()"
   ]
  },
  {
   "cell_type": "code",
   "execution_count": 332,
   "metadata": {},
   "outputs": [],
   "source": [
    "for j in city_list: # df1-13 变量名称赋值\n",
    "    for i in strict_list:\n",
    "        if len(df_empty[(df_empty['区']==i) & (df_empty['城市']==j)]) > 1:\n",
    "            locals()[str(j)+str(i)] = df_empty[(df_empty['区']==i) & (df_empty['城市']==j)]\n",
    "            locals()[str(j)+str(i)].to_excel('/Users/19723/Desktop/xinfang_ss/'+str(j)+str(i)+'.xlsx')\n",
    "        else:\n",
    "            continue"
   ]
  },
  {
   "cell_type": "code",
   "execution_count": null,
   "metadata": {},
   "outputs": [],
   "source": []
  },
  {
   "cell_type": "code",
   "execution_count": null,
   "metadata": {},
   "outputs": [],
   "source": []
  }
 ],
 "metadata": {
  "kernelspec": {
   "display_name": "Python 3",
   "language": "python",
   "name": "python3"
  },
  "language_info": {
   "codemirror_mode": {
    "name": "ipython",
    "version": 3
   },
   "file_extension": ".py",
   "mimetype": "text/x-python",
   "name": "python",
   "nbconvert_exporter": "python",
   "pygments_lexer": "ipython3",
   "version": "3.8.3"
  }
 },
 "nbformat": 4,
 "nbformat_minor": 4
}
