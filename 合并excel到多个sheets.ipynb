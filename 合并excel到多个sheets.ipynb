{
 "cells": [
  {
   "cell_type": "code",
   "execution_count": 1,
   "metadata": {},
   "outputs": [
    {
     "name": "stdout",
     "output_type": "stream",
     "text": [
      "['A_000132.xlsx', 'A_000300.xlsx', 'A_399006.xlsx', 'A_FTSE.xlsx', 'A_GDAXI.xlsx', 'A_HSI.xlsx', 'A_N225.xlsx', 'A_SPX.xlsx']\n"
     ]
    }
   ],
   "source": [
    "import os\n",
    "import pandas as pd\n",
    "\n",
    "dir = '/Users/19723/Desktop/写字楼/'\n",
    "# 获取目录下所有的表\n",
    "origin_file_list = os.listdir(dir)\n",
    "print(origin_file_list)\n",
    "\n",
    "with pd.ExcelWriter('result.xlsx') as writer:\n",
    "\t# 循环遍历表格\n",
    "    for i in origin_file_list:\n",
    "        # 拼接每个文件的路径\n",
    "        file_path = dir + '/' + i\n",
    "        # 把表名赋予给对应的sheet\n",
    "        sheet_name = i[:-4]\n",
    "        df = pd.read_excel(file_path)\n",
    "\n",
    "\t\t#变相解决表格中第一行第一列为空的缺陷\n",
    "        string = \"\".join(list(str(i) for i in df.index))\n",
    "        # 判断如果索引都为数字，则不保留索引（根据自己代码调整）\n",
    "        if string.isdigit():\n",
    "            df.to_excel(writer, sheet_name,index=False)\n",
    "        else:\n",
    "            df.to_excel(writer, sheet_name)"
   ]
  },
  {
   "cell_type": "code",
   "execution_count": null,
   "metadata": {},
   "outputs": [],
   "source": []
  }
 ],
 "metadata": {
  "kernelspec": {
   "display_name": "Python 3",
   "language": "python",
   "name": "python3"
  },
  "language_info": {
   "codemirror_mode": {
    "name": "ipython",
    "version": 3
   },
   "file_extension": ".py",
   "mimetype": "text/x-python",
   "name": "python",
   "nbconvert_exporter": "python",
   "pygments_lexer": "ipython3",
   "version": "3.8.3"
  }
 },
 "nbformat": 4,
 "nbformat_minor": 4
}
