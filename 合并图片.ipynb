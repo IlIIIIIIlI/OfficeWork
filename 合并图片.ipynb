{
 "cells": [
  {
   "cell_type": "code",
   "execution_count": null,
   "id": "fatal-refund",
   "metadata": {},
   "outputs": [],
   "source": [
    "Import openpyxl\n",
    "\n",
    "import pandas as pd\n",
    "\n",
    "file = ‘produceSales.xlsx’\n",
    "data = pd.ExcelFile(file)\n",
    "df = data.parse('body')\n",
    "df.info\n",
    "df.head(10)"
   ]
  },
  {
   "cell_type": "code",
   "execution_count": 3,
   "id": "governing-transport",
   "metadata": {},
   "outputs": [],
   "source": [
    "dfs = []"
   ]
  },
  {
   "cell_type": "code",
   "execution_count": 1,
   "id": "liable-specification",
   "metadata": {},
   "outputs": [],
   "source": [
    "import pandas as pd\n",
    "import os"
   ]
  },
  {
   "cell_type": "markdown",
   "id": "informative-muslim",
   "metadata": {},
   "source": [
    "# 对文件名排序"
   ]
  },
  {
   "cell_type": "code",
   "execution_count": 2,
   "id": "latin-hours",
   "metadata": {},
   "outputs": [
    {
     "name": "stdout",
     "output_type": "stream",
     "text": [
      "['1.xls', '2.xls', '3.xls', '4.xls', '5.xls', '6.xls', '7.xls', '8.xls', '9.xls', '10.xls']\n"
     ]
    }
   ],
   "source": [
    "inputdir=r'/Users/chenoi/Desktop/ttt//'\n",
    "\n",
    "filenames = os.listdir(inputdir)\n",
    "sorted_filenames = sorted(filenames, key=lambda x: int(x.split('.')[0]))\n",
    "print(sorted_filenames)"
   ]
  },
  {
   "cell_type": "code",
   "execution_count": null,
   "id": "hungarian-yield",
   "metadata": {},
   "outputs": [],
   "source": []
  },
  {
   "cell_type": "code",
   "execution_count": 5,
   "id": "bacterial-extreme",
   "metadata": {},
   "outputs": [
    {
     "name": "stdout",
     "output_type": "stream",
     "text": [
      "1.xls\n",
      "2.xls\n",
      "3.xls\n",
      "4.xls\n",
      "5.xls\n",
      "6.xls\n",
      "7.xls\n",
      "8.xls\n",
      "9.xls\n",
      "10.xls\n",
      "                        0                                                  1  \\\n",
      "0                    品种序号                                               品种名称   \n",
      "1                     NaN                                                NaN   \n",
      "2                       7                                                葡萄糖   \n",
      "3                       9                                               浓氯化钠   \n",
      "4                      10                                              生理氯化钠   \n",
      "..                    ...                                                ...   \n",
      "112                    93                                 人促红素重组人促红素(CHO细胞)]   \n",
      "113                    94                                人干扰素a1b(重组人干扰素a-1b)   \n",
      "114                    95                                人干扰素a2a(重组人干扰素a-2a)   \n",
      "115    人干扰素a2b(重组人干扰素a2b)  人干扰素a2b(组人干扰素a-2b)、人千扰素2b[重组人干扰素a-2b)(假单胞菌)]人干...   \n",
      "116  人粒细胞刺激因子（重组人粒细胞刺激因子)             人粒细胞刺激因子（重组人粒细胞刺激因子)、重组人粒细胞刺激因子(CHO细胞)   \n",
      "\n",
      "                                              2       3    4     5  \\\n",
      "0                                          药品名称  合并归类剂型   组别  具体剂型   \n",
      "1                                           NaN     NaN  NaN   NaN   \n",
      "2                                           葡萄糖    口服散剂    7  口服散剂   \n",
      "3                                          浓氯化钠     注射剂    1   注射剂   \n",
      "4                                         生理氯化钠     冲洗剂    1   冲洗剂   \n",
      "..                                          ...     ...  ...   ...   \n",
      "112                         人促红素[重组人促红素(CHO细胞)]     注射剂    1   注射剂   \n",
      "113                         人干扰素a1b(重组人千扰素a-1b)     注射剂    1   注射剂   \n",
      "114  人干扰素a2a(重组人干扰素a-2a)、人干扰素a2a[重组人干扰素-2a(酵母)]     注射剂    1   注射剂   \n",
      "115                                        药注射剂       1  注射剂   注射剂   \n",
      "116                                         注射剂       1  注射剂   注射剂   \n",
      "\n",
      "               6             7    8  \n",
      "0          统一代表品           NaN   备注  \n",
      "1           代表剂型          代表规格  NaN  \n",
      "2           口服散剂         82.5g  NaN  \n",
      "3            注射剂       10ml:1g  NaN  \n",
      "4            冲洗剂         500ml  NaN  \n",
      "..           ...           ...  ...  \n",
      "112          注射剂   1ml:10000IU  NaN  \n",
      "113          注射剂  100万IU(10ug)  NaN  \n",
      "114          注射剂    1ml:100万IU  NaN  \n",
      "115       300万IU           NaN  NaN  \n",
      "116  0.5ml:125μg           NaN  NaN  \n",
      "\n",
      "[117 rows x 9 columns]\n"
     ]
    }
   ],
   "source": [
    "dfs = []\n",
    "for parents, dirnames, filenames in os.walk(inputdir):\n",
    "    for filename in sorted_filenames:\n",
    "        print(filename)\n",
    "        data = pd.read_excel(os.path.join(parents,filename), header=None)\n",
    "        # 用parse，用pd.ExcelFile\n",
    "#         df = data.parse('body')\n",
    "        dfs.append(data)\n",
    "    # 将多个DataFrame合并为一个\n",
    "    df = pd.concat(dfs, axis=0, ignore_index=True)\n",
    "    print(df)\n",
    "    df.to_excel(\"/Users/chenoi/Desktop/w.xlsx\", index=None, header=None)"
   ]
  },
  {
   "cell_type": "code",
   "execution_count": 10,
   "id": "honest-nothing",
   "metadata": {},
   "outputs": [
    {
     "ename": "NameError",
     "evalue": "name 'a' is not defined",
     "output_type": "error",
     "traceback": [
      "\u001b[0;31m---------------------------------------------------------------------------\u001b[0m",
      "\u001b[0;31mNameError\u001b[0m                                 Traceback (most recent call last)",
      "\u001b[0;32m<ipython-input-10-3f786850e387>\u001b[0m in \u001b[0;36m<module>\u001b[0;34m\u001b[0m\n\u001b[0;32m----> 1\u001b[0;31m \u001b[0ma\u001b[0m\u001b[0;34m\u001b[0m\u001b[0;34m\u001b[0m\u001b[0m\n\u001b[0m",
      "\u001b[0;31mNameError\u001b[0m: name 'a' is not defined"
     ]
    }
   ],
   "source": [
    "a"
   ]
  },
  {
   "cell_type": "code",
   "execution_count": 14,
   "id": "unlikely-employee",
   "metadata": {},
   "outputs": [],
   "source": [
    "from PIL import Image\n",
    "images_list = ['/Users/chenoi/Desktop/results_saved/【国金医药2021Q4】医药股，基金持仓怎么看？(3)(1) 7.png',\n",
    " '/Users/chenoi/Desktop/results_saved/【国金医药2021Q4】医药股，基金持仓怎么看？(3)(1) 8.png',\n",
    " '/Users/chenoi/Desktop/results_saved/【国金医药2021Q4】医药股，基金持仓怎么看？(3)(1) 9.png',\n",
    " '/Users/chenoi/Desktop/results_saved/【国金医药2021Q4】医药股，基金持仓怎么看？(3)(1) 10.png',\n",
    " '/Users/chenoi/Desktop/results_saved/【国金医药2021Q4】医药股，基金持仓怎么看？(3)(1) 11.png',\n",
    " '/Users/chenoi/Desktop/results_saved/【国金医药2021Q4】医药股，基金持仓怎么看？(3)(1) 12.png']\n",
    "imgs = [Image.open(i) for i in images_list]\n",
    "\n",
    "# If you're using an older version of Pillow, you might have to use .size[0] instead of .width\n",
    "# and later on, .size[1] instead of .height\n",
    "min_img_width = min(i.width for i in imgs)\n",
    "\n",
    "total_height = 0\n",
    "for i, img in enumerate(imgs):\n",
    "    # If the image is larger than the minimum width, resize it\n",
    "    if img.width > min_img_width:\n",
    "        imgs[i] = img.resize((min_img_width, int(img.height / img.width * min_img_width)), Image.ANTIALIAS)\n",
    "    total_height += imgs[i].height\n",
    "\n",
    "# I have picked the mode of the first image to be generic. You may have other ideas\n",
    "# Now that we know the total height of all of the resized images, we know the height of our final image\n",
    "img_merge = Image.new(imgs[0].mode, (min_img_width, total_height))\n",
    "y = 0\n",
    "for img in imgs:\n",
    "    img_merge.paste(img, (0, y))\n",
    "\n",
    "    y += img.height\n",
    "img_merge.save('/Users/chenoi/Desktop/terracegarden_v.png')"
   ]
  },
  {
   "cell_type": "code",
   "execution_count": 9,
   "id": "bibliographic-action",
   "metadata": {},
   "outputs": [],
   "source": [
    "import pandas as pd\n",
    "import os\n",
    "list1 = []\n",
    "inputdir=r'/Users/chenoi/Desktop/results_saved//'\n",
    "# df_empty=pd.DataFrame(columns=['标题','resblock-location'])\n",
    "for parents, dirnames, filenames in os.walk(inputdir):\n",
    "    for filename in filenames:\n",
    "        list1.append(filename)"
   ]
  },
  {
   "cell_type": "code",
   "execution_count": 10,
   "id": "molecular-cologne",
   "metadata": {},
   "outputs": [
    {
     "data": {
      "text/plain": [
       "['【国金医药2021Q4】医药股，基金持仓怎么看？(3)(1) 9.png',\n",
       " '【国金医药2021Q4】医药股，基金持仓怎么看？(3)(1) 8.png',\n",
       " '【国金医药2021Q4】医药股，基金持仓怎么看？(3)(1) 12.png',\n",
       " '【国金医药2021Q4】医药股，基金持仓怎么看？(3)(1) 10.png',\n",
       " '【国金医药2021Q4】医药股，基金持仓怎么看？(3)(1) 11.png',\n",
       " '【国金医药2021Q4】医药股，基金持仓怎么看？(3)(1) 7.png']"
      ]
     },
     "execution_count": 10,
     "metadata": {},
     "output_type": "execute_result"
    }
   ],
   "source": [
    "list1"
   ]
  },
  {
   "cell_type": "code",
   "execution_count": null,
   "id": "integral-timothy",
   "metadata": {},
   "outputs": [],
   "source": []
  }
 ],
 "metadata": {
  "kernelspec": {
   "display_name": "Python 3",
   "language": "python",
   "name": "python3"
  },
  "language_info": {
   "codemirror_mode": {
    "name": "ipython",
    "version": 3
   },
   "file_extension": ".py",
   "mimetype": "text/x-python",
   "name": "python",
   "nbconvert_exporter": "python",
   "pygments_lexer": "ipython3",
   "version": "3.8.8"
  },
  "toc": {
   "base_numbering": 1,
   "nav_menu": {},
   "number_sections": true,
   "sideBar": true,
   "skip_h1_title": false,
   "title_cell": "Table of Contents",
   "title_sidebar": "Contents",
   "toc_cell": false,
   "toc_position": {},
   "toc_section_display": true,
   "toc_window_display": false
  }
 },
 "nbformat": 4,
 "nbformat_minor": 5
}
