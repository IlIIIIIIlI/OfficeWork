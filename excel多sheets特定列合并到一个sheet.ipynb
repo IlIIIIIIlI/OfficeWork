{
 "cells": [
  {
   "cell_type": "code",
   "execution_count": 1,
   "metadata": {},
   "outputs": [
    {
     "name": "stderr",
     "output_type": "stream",
     "text": [
      "<ipython-input-1-a682839a204f>:9: DeprecationWarning: Call to deprecated function get_sheet_by_name (Use wb[sheetname]).\n",
      "  ws = wb.get_sheet_by_name(name)\n"
     ]
    },
    {
     "name": "stdout",
     "output_type": "stream",
     "text": [
      "<Worksheet \"卢湾.\">\n",
      "<Worksheet \"嘉定.\">\n",
      "<Worksheet \"奉贤.\">\n",
      "<Worksheet \"宝山.\">\n",
      "<Worksheet \"崇明.\">\n",
      "<Worksheet \"徐汇.\">\n",
      "<Worksheet \"普陀.\">\n",
      "<Worksheet \"杨浦.\">\n",
      "<Worksheet \"松江.\">\n",
      "<Worksheet \"浦东.\">\n",
      "<Worksheet \"虹口.\">\n",
      "<Worksheet \"长宁.\">\n",
      "<Worksheet \"闵行.\">\n",
      "<Worksheet \"闸北.\">\n",
      "<Worksheet \"青浦.\">\n",
      "<Worksheet \"静安.\">\n",
      "<Worksheet \"黄浦.\">\n"
     ]
    }
   ],
   "source": [
    "# 拆分sheets成单独的excel文件\n",
    "from openpyxl import load_workbook,Workbook\n",
    "\n",
    "\n",
    "wb = load_workbook(\"/Users/19723/Desktop/result.xlsx\")\n",
    "sheetnames = wb.sheetnames\n",
    "\n",
    "for name in sheetnames:\n",
    "    ws = wb.get_sheet_by_name(name)\n",
    "    print(ws)\n",
    "    # 创建新的Excel\n",
    "    wb2 = Workbook()\n",
    "    # 获取当前sheet\n",
    "    ws2 = wb2.active\n",
    "    #两个for循环遍历整个excel的单元格内容\n",
    "    for i,row in enumerate(ws.iter_rows()):\n",
    "        for j,cell in enumerate(row):\n",
    "            # 写入新Excel\n",
    "            ws2.cell(row=i+1, column=j+1, value=cell.value)\n",
    "            # 设置新Sheet的名称\n",
    "            ws2.title = name\n",
    "\n",
    "    wb2.save(name + \".xlsx\")"
   ]
  },
  {
   "cell_type": "code",
   "execution_count": null,
   "metadata": {},
   "outputs": [],
   "source": [
    "import pandas as pd\n",
    "data = pd.read_excel('/Users/19723/Desktop/333.xlsx', sheet_name='Sheet2')"
   ]
  },
  {
   "cell_type": "code",
   "execution_count": 4,
   "metadata": {},
   "outputs": [
    {
     "name": "stdout",
     "output_type": "stream",
     "text": [
      "/Users/19723/Desktop/citt//合并2.xls\n",
      "['/Users/19723/Desktop/citt//上海..xlsx', '/Users/19723/Desktop/citt//北京..xlsx', '/Users/19723/Desktop/citt//南通..xlsx', '/Users/19723/Desktop/citt//合并2.xls', '/Users/19723/Desktop/citt//启东..xlsx', '/Users/19723/Desktop/citt//天津..xlsx', '/Users/19723/Desktop/citt//广州..xlsx', '/Users/19723/Desktop/citt//成都..xlsx', '/Users/19723/Desktop/citt//昆明..xlsx', '/Users/19723/Desktop/citt//杭州..xlsx', '/Users/19723/Desktop/citt//桂林..xlsx', '/Users/19723/Desktop/citt//深圳..xlsx', '/Users/19723/Desktop/citt//澳门..xlsx', '/Users/19723/Desktop/citt//苏州..xlsx', '/Users/19723/Desktop/citt//重庆..xlsx', '/Users/19723/Desktop/citt//香港..xlsx']\n",
      "------------/Users/19723/Desktop/citt//上海..xlsx数据写入成功！-----------\n",
      "------------/Users/19723/Desktop/citt//北京..xlsx数据写入成功！-----------\n",
      "------------/Users/19723/Desktop/citt//南通..xlsx数据写入成功！-----------\n",
      "------------/Users/19723/Desktop/citt//合并2.xls数据写入成功！-----------\n",
      "------------/Users/19723/Desktop/citt//启东..xlsx数据写入成功！-----------\n",
      "------------/Users/19723/Desktop/citt//天津..xlsx数据写入成功！-----------\n",
      "------------/Users/19723/Desktop/citt//广州..xlsx数据写入成功！-----------\n",
      "------------/Users/19723/Desktop/citt//成都..xlsx数据写入成功！-----------\n",
      "------------/Users/19723/Desktop/citt//昆明..xlsx数据写入成功！-----------\n",
      "------------/Users/19723/Desktop/citt//杭州..xlsx数据写入成功！-----------\n",
      "------------/Users/19723/Desktop/citt//桂林..xlsx数据写入成功！-----------\n",
      "------------/Users/19723/Desktop/citt//深圳..xlsx数据写入成功！-----------\n",
      "------------/Users/19723/Desktop/citt//澳门..xlsx数据写入成功！-----------\n",
      "------------/Users/19723/Desktop/citt//苏州..xlsx数据写入成功！-----------\n",
      "------------/Users/19723/Desktop/citt//重庆..xlsx数据写入成功！-----------\n",
      "------------/Users/19723/Desktop/citt//香港..xlsx数据写入成功！-----------\n"
     ]
    }
   ],
   "source": [
    "# 将单独的excel的第一张表的特定列汇总\n",
    "import xlrd\n",
    "import xlwt\n",
    "from xlutils.copy import copy\n",
    "import os\n",
    "\n",
    "def create_excel(path, sheet_name):\n",
    "    workbook = xlwt.Workbook()  # 新建一个工作簿\n",
    "    workbook.add_sheet(sheet_name)  # 在工作簿中新建一个表格\n",
    "    workbook.save(path)  # 保存工作簿\n",
    "\n",
    "def read_data(FileName):\n",
    "    # 1.打开文件\n",
    "    open_file = xlrd.open_workbook(FileName)\n",
    "\n",
    "    # 2.读取第二列的内容（表中第一列索引值为0）\n",
    "    st = open_file.sheet_by_index(0)\n",
    "    data = [st.cell_value(i,0) for i in range(1, st.nrows)]  # i 后面这个，要第几列改第几列， 第三列是2\n",
    "    # 3.将表名追加到列表作为第一个元素\n",
    "    title = open_file.sheet_names()\n",
    "    data = title + data\n",
    "\n",
    "    return data\n",
    "\n",
    "def write_data(path, data):\n",
    "    index = len(data) # 获取索引写入的行数\n",
    "    workbook = xlrd.open_workbook(path) # 打开工作簿\n",
    "    sheets = workbook.sheet_names()  # 获取工作簿中的所有表格\n",
    "    worksheet = workbook.sheet_by_name(sheets[0])  # 获取工作簿中所有表格中的的第一个表格\n",
    "    cols_old = worksheet.ncols  # 获取表格中已存在的数据的列数\n",
    "\n",
    "    new_workbook = copy(workbook)  # 将xlrd对象拷贝转化为xlwt对象\n",
    "    new_worksheet = new_workbook.get_sheet(0)  # 获取转化后工作簿中的第一个表格\n",
    "    for i in range(0, index):\n",
    "            new_worksheet.write( i, cols_old + 1, data[i])  # 追加写入数据\n",
    "    new_workbook.save(path)  # 保存工作簿\n",
    "\n",
    "def get_file_name(file_dir):\n",
    "    tmp_lst = []\n",
    "    for root, dirs, files in os.walk(file_dir):\n",
    "        for file in files:\n",
    "            tmp_lst.append(os.path.join(root, file))\n",
    "    return tmp_lst\n",
    "\n",
    "def main():\n",
    "    DIR_NAME = r'/Users/19723/Desktop/citt//'\n",
    "    create_excel(DIR_NAME + '合并2.xls','汇总数据')\n",
    "    print(DIR_NAME + '合并2.xls')\n",
    "    tmp_list = get_file_name(DIR_NAME)\n",
    "    print(tmp_list)\n",
    "    for dir in tmp_list:\n",
    "        data = read_data(dir)\n",
    "        write_data(DIR_NAME + '\\合并2.xls', data)\n",
    "        print('------------'+ dir.split(\"\\\\\")[-1] + '数据写入成功！-----------' )\n",
    "\n",
    "if __name__ == '__main__':\n",
    "    main()"
   ]
  },
  {
   "cell_type": "code",
   "execution_count": null,
   "metadata": {},
   "outputs": [],
   "source": []
  }
 ],
 "metadata": {
  "kernelspec": {
   "display_name": "Python 3",
   "language": "python",
   "name": "python3"
  },
  "language_info": {
   "codemirror_mode": {
    "name": "ipython",
    "version": 3
   },
   "file_extension": ".py",
   "mimetype": "text/x-python",
   "name": "python",
   "nbconvert_exporter": "python",
   "pygments_lexer": "ipython3",
   "version": "3.8.3"
  }
 },
 "nbformat": 4,
 "nbformat_minor": 4
}
