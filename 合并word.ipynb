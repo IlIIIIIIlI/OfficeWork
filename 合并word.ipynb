{
 "cells": [
  {
   "cell_type": "code",
   "execution_count": 19,
   "metadata": {},
   "outputs": [
    {
     "name": "stdout",
     "output_type": "stream",
     "text": [
      "Requirement already satisfied: pywin32 in c:\\users\\19723\\anaconda3\\lib\\site-packages (227)\n"
     ]
    }
   ],
   "source": [
    "!pip install pywin32"
   ]
  },
  {
   "cell_type": "code",
   "execution_count": 1,
   "metadata": {},
   "outputs": [],
   "source": [
    "from os.path import abspath\n",
    "from win32com import client\n",
    "\n",
    "def main(files, final_docx):\n",
    "    #启动word\n",
    "    word = client.gencache.EnsureDispatch('Word.Application')\n",
    "    word.Visible = True\n",
    "    #新建空白文档\n",
    "    new_document = word.Documents.Add()\n",
    "    for fn in files:\n",
    "        #新增一个sec\n",
    "        sec = new_document.Sections.Add()\n",
    "        #打开要合并的文件\n",
    "        fn = abspath(fn)\n",
    "        temp_document = word.Documents.Open(fn)\n",
    "        #复制\n",
    "        temp_document.Content.Copy()\n",
    "        #粘贴到新文件的当前页\n",
    "        sec.PageSetup = temp_document.PageSetup\n",
    "        sec.Range.PasteAndFormat(True)\n",
    "        #关闭要合并的文件\n",
    "        temp_document.Close()\n",
    "    new_document.SaveAs(final_docx)\n",
    "    new_document.Close()\n",
    "    word.Quit()"
   ]
  },
  {
   "cell_type": "code",
   "execution_count": 41,
   "metadata": {},
   "outputs": [],
   "source": [
    "main(['/Users/19723/Desktop/123321/Chapter01_Testbank.rtf',\n",
    "     '/Users/19723/Desktop/123321/Chapter02_Testbank.rtf',\n",
    "     '/Users/19723/Desktop/123321/Chapter03_Testbank.rtf',\n",
    "     '/Users/19723/Desktop/123321/Chapter04_Testbank.rtf',\n",
    "     '/Users/19723/Desktop/123321/Chapter05_Testbank.rtf',\n",
    "     '/Users/19723/Desktop/123321/Chapter06_Testbank.rtf',\n",
    "     '/Users/19723/Desktop/123321/Chapter07_Testbank.rtf',\n",
    "     '/Users/19723/Desktop/123321/Chapter08_Testbank.rtf',\n",
    "     '/Users/19723/Desktop/123321/Chapter09_Testbank.rtf',\n",
    "     '/Users/19723/Desktop/123321/Chapter10_Testbank.rtf',\n",
    "     '/Users/19723/Desktop/123321/Chapter11_Testbank.rtf',\n",
    "     '/Users/19723/Desktop/123321/Chapter12_Testbank.rtf',\n",
    "     '/Users/19723/Desktop/123321/Chapter13_Testbank.rtf',\n",
    "     '/Users/19723/Desktop/123321/Chapter14_Testbank.rtf',\n",
    "     '/Users/19723/Desktop/123321/Chapter15_Testbank.rtf',\n",
    "     '/Users/19723/Desktop/123321/Chapter16_Testbank.rtf',\n",
    "     '/Users/19723/Desktop/123321/Chapter17_Testbank.rtf',\n",
    "     '/Users/19723/Desktop/123321/Chapter18_Testbank.rtf',],\n",
    "    r'/Users/19723/Desktop/result.docx')"
   ]
  },
  {
   "cell_type": "code",
   "execution_count": 3,
   "metadata": {},
   "outputs": [
    {
     "ename": "NameError",
     "evalue": "name 'unicode' is not defined",
     "output_type": "error",
     "traceback": [
      "\u001b[1;31m---------------------------------------------------------------------------\u001b[0m",
      "\u001b[1;31mNameError\u001b[0m                                 Traceback (most recent call last)",
      "\u001b[1;32m<ipython-input-3-4f14e08b276d>\u001b[0m in \u001b[0;36m<module>\u001b[1;34m\u001b[0m\n\u001b[0;32m      2\u001b[0m \u001b[1;32mimport\u001b[0m \u001b[0mos\u001b[0m\u001b[1;33m.\u001b[0m\u001b[0mpath\u001b[0m\u001b[1;33m\u001b[0m\u001b[1;33m\u001b[0m\u001b[0m\n\u001b[0;32m      3\u001b[0m \u001b[1;33m\u001b[0m\u001b[0m\n\u001b[1;32m----> 4\u001b[1;33m \u001b[0mpath\u001b[0m \u001b[1;33m=\u001b[0m \u001b[0municode\u001b[0m\u001b[1;33m(\u001b[0m\u001b[1;34m'/Users/19723/Desktop/ref'\u001b[0m\u001b[1;33m,\u001b[0m\u001b[1;34m\"UTF-8\"\u001b[0m\u001b[1;33m)\u001b[0m\u001b[1;33m\u001b[0m\u001b[1;33m\u001b[0m\u001b[0m\n\u001b[0m\u001b[0;32m      5\u001b[0m \u001b[0mfiles123\u001b[0m \u001b[1;33m=\u001b[0m \u001b[0mos\u001b[0m\u001b[1;33m.\u001b[0m\u001b[0mlistdir\u001b[0m\u001b[1;33m(\u001b[0m\u001b[0mpath\u001b[0m\u001b[1;33m)\u001b[0m\u001b[1;33m\u001b[0m\u001b[1;33m\u001b[0m\u001b[0m\n\u001b[0;32m      6\u001b[0m \u001b[1;33m\u001b[0m\u001b[0m\n",
      "\u001b[1;31mNameError\u001b[0m: name 'unicode' is not defined"
     ]
    }
   ],
   "source": [
    "import os  \n",
    "import os.path\n",
    "\n",
    "path = unicode('/Users/19723/Desktop/ref',\"UTF-8\")\n",
    "files123 = os.listdir(path)        \n",
    "        \n",
    "files123"
   ]
  },
  {
   "cell_type": "code",
   "execution_count": 2,
   "metadata": {},
   "outputs": [
    {
     "data": {
      "text/plain": [
       "['/Users/19723/Desktop/ref/An_architecture_for_a_global_Internet_host_distance_estimation_service.docx',\n",
       " '/Users/19723/Desktop/ref/COMP90007_Project1_template.docx',\n",
       " '/Users/19723/Desktop/ref/Enhanced_IPv6_ping_and_traceroute.docx',\n",
       " '/Users/19723/Desktop/ref/How_and_how_much_traceroute_confuses_our_understanding_of_network_paths.docx',\n",
       " '/Users/19723/Desktop/ref/Measuring_Networks_Using_IP_Options.docx',\n",
       " '/Users/19723/Desktop/ref/Packet_Level_TCP_Performance_of_NAT44_NAT64_and_IPv6_Using_Iperf_in_the_Context_of_IPv6_Migration.docx',\n",
       " '/Users/19723/Desktop/ref/Research_of_TCP_optimization_technology_for_long-distance_and_high_bandwidth-delay_private_network.docx',\n",
       " '/Users/19723/Desktop/ref/Tracerouting_peer-to-peer_networks.docx',\n",
       " '/Users/19723/Desktop/ref/What_can_you_do_with_Traceroute.docx']"
      ]
     },
     "execution_count": 2,
     "metadata": {},
     "output_type": "execute_result"
    }
   ],
   "source": [
    "import os\n",
    "#遍历目录下所有文件\n",
    "list1 = []\n",
    "folder_list = os.listdir('/Users/19723/Desktop/ref//')#   folder_path为此时文件路径          lisidir 获取路径中的文件夹中的每个文件           \n",
    "for folder in folder_list:#遍历里面每个文件\n",
    "    new_folder_path = os.path.join('/Users/19723/Desktop/ref/', folder)        #根据子文件夹，生成新的路径   path.join 为前面的folder_path+后面的folder  例如：C:\\CHE\\+ 1.txt = C:\\CHE\\1.txt  即遍历后获取每个txt文件的绝对路径                   \n",
    "    list1.append(new_folder_path)\n",
    "list1"
   ]
  },
  {
   "cell_type": "code",
   "execution_count": 3,
   "metadata": {},
   "outputs": [],
   "source": [
    "main(list1,\n",
    "    r'/Users/19723/Desktop/result2.docx')"
   ]
  },
  {
   "cell_type": "code",
   "execution_count": 2,
   "metadata": {},
   "outputs": [],
   "source": [
    "main(['/Users/19723/Desktop/123321/ch01.doc',\n",
    " '/Users/19723/Desktop/123321/ch01.rtf',\n",
    " '/Users/19723/Desktop/123321/ch02.doc',\n",
    " '/Users/19723/Desktop/123321/ch02.rtf',\n",
    " '/Users/19723/Desktop/123321/ch03.doc',\n",
    " '/Users/19723/Desktop/123321/ch03.rtf',\n",
    " '/Users/19723/Desktop/123321/ch04.doc',\n",
    " '/Users/19723/Desktop/123321/ch04.rtf',\n",
    " '/Users/19723/Desktop/123321/ch05.doc',\n",
    " '/Users/19723/Desktop/123321/ch05.rtf',\n",
    " '/Users/19723/Desktop/123321/ch06.doc',\n",
    " '/Users/19723/Desktop/123321/ch06.rtf',\n",
    " '/Users/19723/Desktop/123321/ch07.doc',\n",
    " '/Users/19723/Desktop/123321/ch07.rtf',\n",
    " '/Users/19723/Desktop/123321/ch08.doc',\n",
    " '/Users/19723/Desktop/123321/ch08.rtf',\n",
    " '/Users/19723/Desktop/123321/ch09.doc',\n",
    " '/Users/19723/Desktop/123321/ch09.rtf',\n",
    " '/Users/19723/Desktop/123321/ch10.doc',\n",
    " '/Users/19723/Desktop/123321/ch10.rtf',\n",
    " '/Users/19723/Desktop/123321/ch11.doc',\n",
    " '/Users/19723/Desktop/123321/ch11.rtf',\n",
    " '/Users/19723/Desktop/123321/ch12.doc',\n",
    " '/Users/19723/Desktop/123321/ch12.rtf',\n",
    " '/Users/19723/Desktop/123321/ch13.doc',\n",
    " '/Users/19723/Desktop/123321/ch13.rtf',\n",
    " '/Users/19723/Desktop/123321/ch14.doc',\n",
    " '/Users/19723/Desktop/123321/ch14.rtf',\n",
    " '/Users/19723/Desktop/123321/Pindyck_9e_IM_Ch01.doc',\n",
    " '/Users/19723/Desktop/123321/Pindyck_9e_IM_Ch02.doc',\n",
    " '/Users/19723/Desktop/123321/Pindyck_9e_IM_Ch03.doc',\n",
    " '/Users/19723/Desktop/123321/Pindyck_9e_IM_Ch04.doc',\n",
    " '/Users/19723/Desktop/123321/Pindyck_9e_IM_Ch04App.doc',\n",
    " '/Users/19723/Desktop/123321/Pindyck_9e_IM_Ch05.doc',\n",
    " '/Users/19723/Desktop/123321/Pindyck_9e_IM_Ch06.doc',\n",
    " '/Users/19723/Desktop/123321/Pindyck_9e_IM_Ch07.docx',\n",
    " '/Users/19723/Desktop/123321/Pindyck_9e_IM_Ch07App.doc',\n",
    " '/Users/19723/Desktop/123321/Pindyck_9e_IM_Ch08.doc',\n",
    " '/Users/19723/Desktop/123321/Pindyck_9e_IM_Ch09.doc',\n",
    " '/Users/19723/Desktop/123321/Pindyck_9e_IM_Ch10.doc',\n",
    " '/Users/19723/Desktop/123321/Pindyck_9e_IM_Ch11.doc',\n",
    " '/Users/19723/Desktop/123321/Pindyck_9e_IM_Ch11App.doc',\n",
    " '/Users/19723/Desktop/123321/Pindyck_9e_IM_Ch12.doc',\n",
    " '/Users/19723/Desktop/123321/Pindyck_9e_IM_Ch13.doc',\n",
    " '/Users/19723/Desktop/123321/Pindyck_9e_IM_Ch14.doc',\n",
    " '/Users/19723/Desktop/123321/Pindyck_9e_IM_Ch15.doc',\n",
    " '/Users/19723/Desktop/123321/Pindyck_9e_IM_Ch16.doc',\n",
    " '/Users/19723/Desktop/123321/Pindyck_9e_IM_Ch17.doc',\n",
    " '/Users/19723/Desktop/123321/Pindyck_9e_IM_Ch18.doc',\n",
    " '/Users/19723/Desktop/123321/Pindyck_9e_IM_Ch19.doc',\n",
    " '/Users/19723/Desktop/123321/Pindyck_9e_IM__FM.doc'],\n",
    "    r'/Users/19723/Desktop/result3.docx')"
   ]
  }
 ],
 "metadata": {
  "kernelspec": {
   "display_name": "Python 3",
   "language": "python",
   "name": "python3"
  },
  "language_info": {
   "codemirror_mode": {
    "name": "ipython",
    "version": 3
   },
   "file_extension": ".py",
   "mimetype": "text/x-python",
   "name": "python",
   "nbconvert_exporter": "python",
   "pygments_lexer": "ipython3",
   "version": "3.8.3"
  }
 },
 "nbformat": 4,
 "nbformat_minor": 4
}
