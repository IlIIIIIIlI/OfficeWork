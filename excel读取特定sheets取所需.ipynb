{
 "cells": [
  {
   "cell_type": "code",
   "execution_count": 1,
   "metadata": {},
   "outputs": [],
   "source": [
    "import pandas as pd"
   ]
  },
  {
   "cell_type": "code",
   "execution_count": 8,
   "metadata": {},
   "outputs": [],
   "source": [
    "# List = ['上海.', '北京.', '南通.', '启东.', '天津.', '广州.', '成都.', '昆明.', '杭州.', '桂林.', '深圳.', '澳门.', '苏州.', '重庆.', '香港.']\n",
    "\n",
    "\n",
    "# data = pd.read_excel(r'/Users/19723/Desktop/result.xlsx', sheet_name='北京.')\n",
    "# df1 = pd.DataFrame()\n",
    "# df1 = df1.assign(城市 = data['城市'])\n",
    "# df1 = df1.assign(销量 = data['月销量'])\n",
    "\n",
    "# data = pd.read_excel(r'/Users/19723/Desktop/result.xlsx', sheet_name='上海.')\n",
    "# df2 = pd.DataFrame()\n",
    "# df2 = df2.assign(城市 = data['城市'])\n",
    "# df2 = df2.assign(销量 = data['月销量'])\n",
    "\n",
    "# data = pd.read_excel(r'/Users/19723/Desktop/result.xlsx', sheet_name='上海.')\n",
    "# df3 = pd.DataFrame()\n",
    "# df2 = df2.assign(城市 = data['城市'])\n",
    "# df2 = df2.assign(销量 = data['月销量'])\n",
    "\n",
    "# for i in range(0, 13): # df1-13 变量名称赋值\n",
    "#     data = pd.read_excel(r'/Users/19723/Desktop/result.xlsx', sheet_name=List(i))\n",
    "#     locals()['df'+str(i)] = pd.DataFrame()\n",
    "#     locals()['df'+str(i)] = locals()['df'+str(i)].assign(城市 = data['城市'])\n",
    "#     locals()['df'+str(i)] = locals()['df'+str(i)].assign(销量 = data['月销量'])\n",
    "#     df = pd.concat([locals()['df'+str(i)]], axis = 0)\n",
    "\n",
    "\n",
    "# dff = pd.concat([df1,df2],axis=0)"
   ]
  },
  {
   "cell_type": "code",
   "execution_count": 21,
   "metadata": {},
   "outputs": [],
   "source": [
    "List = ['上海.', '北京.', '南通.', '启东.', '天津.', '广州.', '成都.', '昆明.', '杭州.', '桂林.', '深圳.', '澳门.', '苏州.', '重庆.', '香港.']\n",
    "\n",
    "for i in range(0, 15): # df1-13 变量名称赋值\n",
    "    name = List[i]\n",
    "    data = pd.read_excel(r'/Users/19723/Desktop/result.xlsx', sheet_name=name)\n",
    "    locals()['df'+str(i)] = pd.DataFrame()\n",
    "    locals()['df'+str(i)] = locals()['df'+str(i)].assign(城市 = data['城市'])\n",
    "    locals()['df'+str(i)] = locals()['df'+str(i)].assign(销量 = data['月销量'])\n",
    "    df = pd.concat([df, locals()['df'+str(i)]], axis = 0)\n"
   ]
  },
  {
   "cell_type": "code",
   "execution_count": 23,
   "metadata": {},
   "outputs": [],
   "source": [
    "df.to_excel('/Users/19723/Desktop/333.xlsx')"
   ]
  },
  {
   "cell_type": "code",
   "execution_count": 10,
   "metadata": {},
   "outputs": [],
   "source": [
    "dff.to_excel('/Users/19723/Desktop/123.xlsx')"
   ]
  },
  {
   "cell_type": "code",
   "execution_count": null,
   "metadata": {},
   "outputs": [],
   "source": []
  }
 ],
 "metadata": {
  "kernelspec": {
   "display_name": "Python 3",
   "language": "python",
   "name": "python3"
  },
  "language_info": {
   "codemirror_mode": {
    "name": "ipython",
    "version": 3
   },
   "file_extension": ".py",
   "mimetype": "text/x-python",
   "name": "python",
   "nbconvert_exporter": "python",
   "pygments_lexer": "ipython3",
   "version": "3.8.3"
  }
 },
 "nbformat": 4,
 "nbformat_minor": 4
}
